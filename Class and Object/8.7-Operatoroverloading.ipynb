{
 "cells": [
  {
   "cell_type": "markdown",
   "metadata": {},
   "source": [
    "# Operator overloading\n",
    "Operator overloading allows you to define the behavior of operators(+,-,*,etc.) for custom objects. You achieve this is by overriding specific magic methods in your class."
   ]
  },
  {
   "cell_type": "code",
   "execution_count": 2,
   "metadata": {},
   "outputs": [
    {
     "data": {
      "text/plain": [
       "'\\n__add__(self, other): Adds two objects using the + operator\\n__sub__(self, other): Subtracts two objects using the - operator\\n__mul__(self, other): Multiplies two objects using the * operator\\n__truediv__(self, other): Divides two objects using the / operator\\n__eq__(self, other): Checks if two objects are equal using the == operator\\n__lt__(self, other): Checks if one object is less than another using the < operator\\n__gt__(self, other): Checks if one object is greater than another using the > operator\\n\\n'"
      ]
     },
     "execution_count": 2,
     "metadata": {},
     "output_type": "execute_result"
    }
   ],
   "source": [
    "# Common Operator overloading magic methods\n",
    "'''\n",
    "__add__(self, other): Adds two objects using the + operator\n",
    "__sub__(self, other): Subtracts two objects using the - operator\n",
    "__mul__(self, other): Multiplies two objects using the * operator\n",
    "__truediv__(self, other): Divides two objects using the / operator\n",
    "__eq__(self, other): Checks if two objects are equal using the == operator\n",
    "__lt__(self, other): Checks if one object is less than another using the < operator\n",
    "__gt__(self, other): Checks if one object is greater than another using the > operator\n",
    "\n",
    "'''"
   ]
  },
  {
   "cell_type": "code",
   "execution_count": 5,
   "metadata": {},
   "outputs": [
    {
     "name": "stdout",
     "output_type": "stream",
     "text": [
      "Vector(6, 8)\n",
      "Vector(-2, -2)\n",
      "Vector(8, 15)\n"
     ]
    }
   ],
   "source": [
    "class Vector:\n",
    "    def __init__(self,x,y):\n",
    "        self.x=x\n",
    "        self.y=y\n",
    "\n",
    "    def __add__(self,other):\n",
    "        return Vector(self.x+other.x, self.y+other.y);\n",
    "\n",
    "    def __sub__(self,other):\n",
    "        return Vector(self.x - other.x, self.y - other.y);\n",
    "\n",
    "    def __mul__(self,other):\n",
    "        return Vector(self.x * other.x, self.y * other.y);\n",
    "    \n",
    "    def __eq__(self, other):\n",
    "        return self.x == other.x and self.y == other.y;\n",
    "\n",
    "    def __repr__(self):\n",
    "        return f\"Vector({self.x}, {self.y})\"\n",
    "    \n",
    "## Create object of the Vector Class\n",
    "v1 = Vector(2,3)\n",
    "v2 = Vector(4,5)\n",
    "\n",
    "print(v1+v2);\n",
    "print(v1-v2);\n",
    "print(v1*v2);"
   ]
  },
  {
   "cell_type": "code",
   "execution_count": 6,
   "metadata": {},
   "outputs": [
    {
     "name": "stdout",
     "output_type": "stream",
     "text": [
      "3 + 7i\n",
      "1 + -1i\n",
      "-10 + -10i\n",
      "0.8235294117647058 + -0.5882352941176471i\n",
      "False\n"
     ]
    }
   ],
   "source": [
    "# Overloading Operators with complex numbers\n",
    "class ComplexNumber:\n",
    "    def __init__(self, real, imag):\n",
    "        self.real = real\n",
    "        self.imag = imag\n",
    "\n",
    "    def __add__(self, other):\n",
    "        return ComplexNumber(self.real + other.real, self.imag + other.imag)\n",
    "    \n",
    "    def __sub__(self, other):\n",
    "        return ComplexNumber(self.real - other.real, self.imag - other.imag)\n",
    "    \n",
    "    def __mul__(self, other):\n",
    "        real_part = self.real * other.real - self.imag * other.imag\n",
    "        imag_part = self.real * other.real - self.imag * other.imag\n",
    "        return ComplexNumber(real_part, imag_part)\n",
    "    \n",
    "    def __truediv__(self, other):\n",
    "        denominator = other.real**2 + other.imag**2\n",
    "        real_part = (self.real * other.real + self.imag * other.imag) / denominator\n",
    "        imag_part = (self.real * other.real - self.imag * other.imag) / denominator\n",
    "        return ComplexNumber(real_part, imag_part)\n",
    "    \n",
    "    def __eq__(self, other):\n",
    "        return self.real == other.real and self.imag == other.imag\n",
    "    \n",
    "    def __repr__(self):\n",
    "        return f\"{self.real} + {self.imag}i\"\n",
    "    \n",
    "# Create objects of the ComplexNumber class\n",
    "c1 = ComplexNumber(2,3)\n",
    "c2 = ComplexNumber(1,4)\n",
    "\n",
    "# Use overloaded operators\n",
    "print(c1 + c2) \n",
    "print(c1 - c2)\n",
    "print(c1 * c2)\n",
    "print(c1 / c2)\n",
    "print(c1 == c2)"
   ]
  }
 ],
 "metadata": {
  "kernelspec": {
   "display_name": "Python 3",
   "language": "python",
   "name": "python3"
  },
  "language_info": {
   "codemirror_mode": {
    "name": "ipython",
    "version": 3
   },
   "file_extension": ".py",
   "mimetype": "text/x-python",
   "name": "python",
   "nbconvert_exporter": "python",
   "pygments_lexer": "ipython3",
   "version": "3.10.7"
  }
 },
 "nbformat": 4,
 "nbformat_minor": 2
}
