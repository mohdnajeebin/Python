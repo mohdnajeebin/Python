{
 "cells": [
  {
   "cell_type": "markdown",
   "metadata": {},
   "source": [
    "# Functions in Python"
   ]
  },
  {
   "cell_type": "markdown",
   "metadata": {},
   "source": [
    "# Introduction to Functions\n",
    "\n",
    "Definition:\n",
    "A function is a block of code that performs a specific task. Function help in organizing code, reusing code, and improve readability."
   ]
  },
  {
   "cell_type": "code",
   "execution_count": 1,
   "metadata": {},
   "outputs": [],
   "source": [
    "# Syntax\n",
    "def function_name(parameters):\n",
    "    \"\"\"Doc String\"\"\"\n",
    "    # Function body\n",
    "    return expression"
   ]
  },
  {
   "cell_type": "code",
   "execution_count": 3,
   "metadata": {},
   "outputs": [],
   "source": [
    "# Why function \n",
    "def even_or_odd(num):\n",
    "    \"\"\"This function finds even or odd\"\"\"\n",
    "    if num%2==0:\n",
    "        print(\"the number is even\");\n",
    "    else:\n",
    "        print(\"the number is odd\");\n"
   ]
  },
  {
   "cell_type": "code",
   "execution_count": 4,
   "metadata": {},
   "outputs": [
    {
     "name": "stdout",
     "output_type": "stream",
     "text": [
      "the number is even\n"
     ]
    }
   ],
   "source": [
    "# Call the function \n",
    "even_or_odd(24);"
   ]
  },
  {
   "cell_type": "code",
   "execution_count": 5,
   "metadata": {},
   "outputs": [
    {
     "name": "stdout",
     "output_type": "stream",
     "text": [
      "6\n"
     ]
    }
   ],
   "source": [
    "# Function with multiple parameters\n",
    "def add(a,b):\n",
    "    return a+b;\n",
    "\n",
    "result = add(2,4);\n",
    "print(result);"
   ]
  },
  {
   "cell_type": "code",
   "execution_count": 6,
   "metadata": {},
   "outputs": [
    {
     "name": "stdout",
     "output_type": "stream",
     "text": [
      "Hello Najeeb Welcome!\n"
     ]
    }
   ],
   "source": [
    "# Default parameter\n",
    "def greet(name):\n",
    "    print(f\"Hello {name} Welcome!\");\n",
    "\n",
    "greet('Najeeb');"
   ]
  },
  {
   "cell_type": "code",
   "execution_count": 7,
   "metadata": {},
   "outputs": [
    {
     "name": "stdout",
     "output_type": "stream",
     "text": [
      "Hello Najeeb Welcome!\n"
     ]
    }
   ],
   "source": [
    "def greet(name=\"Guest\"):\n",
    "    print(f\"Hello {name} Welcome!\")\n",
    "\n",
    "greet('Najeeb');"
   ]
  },
  {
   "cell_type": "code",
   "execution_count": 8,
   "metadata": {},
   "outputs": [
    {
     "name": "stdout",
     "output_type": "stream",
     "text": [
      "1\n",
      "2\n",
      "3\n",
      "4\n",
      "5\n",
      "6\n",
      "7\n",
      "Najeeb\n"
     ]
    }
   ],
   "source": [
    "## Variable length Arguments\n",
    "# Positional and Keyword Arguments\n",
    "# Positional Argument\n",
    "\n",
    "def print_numbers(*args):\n",
    "    for number in args:\n",
    "        print(number);\n",
    "\n",
    "print_numbers(1,2,3,4,5,6,7,'Najeeb');"
   ]
  },
  {
   "cell_type": "code",
   "execution_count": 9,
   "metadata": {},
   "outputs": [
    {
     "name": "stdout",
     "output_type": "stream",
     "text": [
      "name:Najeeb\n",
      "age:31\n",
      "Country:India\n"
     ]
    }
   ],
   "source": [
    "# Keyword arguments\n",
    "def print_details(**kwargs):\n",
    "    for key,value in kwargs.items():\n",
    "        print(f\"{key}:{value}\")\n",
    "\n",
    "print_details(name=\"Najeeb\", age=31, Country=\"India\")"
   ]
  },
  {
   "cell_type": "code",
   "execution_count": 10,
   "metadata": {},
   "outputs": [
    {
     "name": "stdout",
     "output_type": "stream",
     "text": [
      " Positional Argument : 1\n",
      " Positional Argument : 2\n",
      " Positional Argument : 3\n",
      " Positional Argument : 4\n",
      " Positional Argument : Najeeb\n",
      "name:Najeeb\n",
      "age:31\n",
      "country:India\n"
     ]
    }
   ],
   "source": [
    "# Combining both Positional and Keyword arguments\n",
    "\n",
    "def print_details(*args, **kwargs):\n",
    "    for val in args:\n",
    "        print(f\" Positional Argument : {val}\");\n",
    "\n",
    "    for key,value in kwargs.items():\n",
    "        print(f\"{key}:{value}\");\n",
    "\n",
    "print_details(1,2,3,4,\"Najeeb\",name=\"Najeeb\",age=31, country=\"India\")"
   ]
  },
  {
   "cell_type": "code",
   "execution_count": 15,
   "metadata": {},
   "outputs": [],
   "source": [
    "# Return statements\n",
    "def multiply(a,b):\n",
    "    return a*b;\n",
    "\n",
    "multiply(2,3);"
   ]
  },
  {
   "cell_type": "code",
   "execution_count": 16,
   "metadata": {},
   "outputs": [],
   "source": [
    "# Return Multiple statements\n",
    "def multiply(a,b):\n",
    "    return a*b,a;\n",
    "\n",
    "multiply(2,3);"
   ]
  }
 ],
 "metadata": {
  "kernelspec": {
   "display_name": "Python 3",
   "language": "python",
   "name": "python3"
  },
  "language_info": {
   "codemirror_mode": {
    "name": "ipython",
    "version": 3
   },
   "file_extension": ".py",
   "mimetype": "text/x-python",
   "name": "python",
   "nbconvert_exporter": "python",
   "pygments_lexer": "ipython3",
   "version": "3.10.7"
  }
 },
 "nbformat": 4,
 "nbformat_minor": 2
}
