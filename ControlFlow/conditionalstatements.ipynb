{
 "cells": [
  {
   "cell_type": "markdown",
   "metadata": {},
   "source": [
    "Conditional Statemens (if, elif, else)"
   ]
  },
  {
   "cell_type": "code",
   "execution_count": 1,
   "metadata": {},
   "outputs": [
    {
     "name": "stdout",
     "output_type": "stream",
     "text": [
      "You are allowed to vote\n"
     ]
    }
   ],
   "source": [
    "#if statement\n",
    "age=20\n",
    "if age>18:\n",
    "    print(\"You are allowed to vote\")"
   ]
  },
  {
   "cell_type": "code",
   "execution_count": 2,
   "metadata": {},
   "outputs": [
    {
     "data": {
      "text/plain": [
       "True"
      ]
     },
     "execution_count": 2,
     "metadata": {},
     "output_type": "execute_result"
    }
   ],
   "source": [
    "age>=18"
   ]
  },
  {
   "cell_type": "code",
   "execution_count": 1,
   "metadata": {},
   "outputs": [
    {
     "name": "stdout",
     "output_type": "stream",
     "text": [
      "You are a minor\n"
     ]
    }
   ],
   "source": [
    "#else statement \n",
    "age=16\n",
    "if age>18:\n",
    "    print(\"You are allowed to vote\")\n",
    "else:\n",
    "    print(\"You are a minor\")"
   ]
  },
  {
   "cell_type": "code",
   "execution_count": 3,
   "metadata": {},
   "outputs": [
    {
     "name": "stdout",
     "output_type": "stream",
     "text": [
      "You are a teenager.\n"
     ]
    }
   ],
   "source": [
    "##elif\n",
    "## The elif statement allows you to check multiple conditions. It stands for \"else if\"\n",
    "age = 17;\n",
    "if age<13:\n",
    "    print(\"You are a child.\");\n",
    "elif age<18:\n",
    "    print(\"You are a teenager.\");\n",
    "else:\n",
    "    print(\"You are an adult.\");"
   ]
  },
  {
   "cell_type": "code",
   "execution_count": 6,
   "metadata": {},
   "outputs": [
    {
     "name": "stdout",
     "output_type": "stream",
     "text": [
      "The number is positive\n",
      "The number is odd\n"
     ]
    }
   ],
   "source": [
    "#NEsted Conditional Statements\n",
    "## You can place one or more if, elif, else statments inside another if, elif, else statement \n",
    "\n",
    "## number even, odd, negative\n",
    "\n",
    "num = int(input(\"Enter the number\"));\n",
    "if num>0:\n",
    "    print(\"The number is positive\");\n",
    "    if num%2==0:\n",
    "        print(\"The number is even\");\n",
    "    else:\n",
    "        print(\"The number is odd\");\n",
    "else:\n",
    "    print(\"The number is zero or negative.\");"
   ]
  },
  {
   "cell_type": "code",
   "execution_count": 11,
   "metadata": {},
   "outputs": [
    {
     "name": "stdout",
     "output_type": "stream",
     "text": [
      "2023  is not a leap year\n"
     ]
    }
   ],
   "source": [
    "# Practical Example\n",
    "## Determine if a year is a leap year using nested condition statement\n",
    "\n",
    "year = int(input(\"Please enter the year\"));\n",
    "\n",
    "if(year%4==0):\n",
    "    if(year%100==0):\n",
    "        if(year%400==0):\n",
    "            print(year,\" is leap year\");\n",
    "        else:\n",
    "            print(year,\" is not a leap year\");\n",
    "    else:\n",
    "        print(year,\" is a leap year\");\n",
    "else:\n",
    "    print(year,\" is not a leap year\");\n"
   ]
  },
  {
   "cell_type": "code",
   "execution_count": 16,
   "metadata": {},
   "outputs": [
    {
     "name": "stdout",
     "output_type": "stream",
     "text": [
      "Result:  Invalid operation\n"
     ]
    }
   ],
   "source": [
    "# Assignment\n",
    "## Simple Calculator Program\n",
    "# Take user input\n",
    "\n",
    "num1 = float(input(\"Enter first number\"));\n",
    "num2 = float(input(\"Enter second number\"));\n",
    "operation = input(\"Enter operatons (+,-,*,/): \");\n",
    "\n",
    "#Perform the requested operation\n",
    "if operation == '+':\n",
    "    result = num1 + num2;\n",
    "elif operation == '-':\n",
    "    result = num1 - num2;\n",
    "elif operation == '*':\n",
    "    result = num1 * num2;\n",
    "elif operation == '/':\n",
    "    if num2 != 0:\n",
    "        result = num1 / num2;\n",
    "    else:\n",
    "        result = \"Error! Division by Zero\";\n",
    "else:\n",
    "    result = \"Invalid operation\";\n",
    "\n",
    "print(\"Result: \",result);\n"
   ]
  },
  {
   "cell_type": "code",
   "execution_count": 17,
   "metadata": {},
   "outputs": [
    {
     "name": "stdout",
     "output_type": "stream",
     "text": [
      "Price:  $25\n"
     ]
    }
   ],
   "source": [
    "# Determine the ticket price based on age and whether the person is student.\n",
    "# Ticket pricing based on age and student status\n",
    "\n",
    "# Take user input\n",
    "age = int(input(\"Enter your age: \"));\n",
    "is_student = input(\"Are you a student? (yes/no)\").lower();\n",
    "\n",
    "# Determine ticket price\n",
    "if age < 5:\n",
    "    price = \"Free\";\n",
    "elif age <= 12:\n",
    "    price = \"$10\";\n",
    "elif age <= 17:\n",
    "    if is_student == 'yes':\n",
    "        price = \"$12\";\n",
    "    else:\n",
    "        price = \"$15\";\n",
    "elif age <= 64:\n",
    "    if is_student == 'yes':\n",
    "        price = \"$18\";\n",
    "    else:\n",
    "        price = \"$25\";\n",
    "else:\n",
    "    price = \"Invalid age\";\n",
    "\n",
    "print(\"Price: \",price);"
   ]
  }
 ],
 "metadata": {
  "kernelspec": {
   "display_name": "Python 3",
   "language": "python",
   "name": "python3"
  },
  "language_info": {
   "codemirror_mode": {
    "name": "ipython",
    "version": 3
   },
   "file_extension": ".py",
   "mimetype": "text/x-python",
   "name": "python",
   "nbconvert_exporter": "python",
   "pygments_lexer": "ipython3",
   "version": "3.10.7"
  }
 },
 "nbformat": 4,
 "nbformat_minor": 2
}
