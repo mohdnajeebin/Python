{
 "cells": [
  {
   "cell_type": "markdown",
   "metadata": {},
   "source": [
    "# Introduction to Dictionaries\n",
    "Dictionaries are unordered collection of items. They stored data in key-value pairs. Keys must be unique and immutable(e.g. strings, numbers, or tuples) while values can be of any type."
   ]
  },
  {
   "cell_type": "code",
   "execution_count": 4,
   "metadata": {},
   "outputs": [
    {
     "name": "stdout",
     "output_type": "stream",
     "text": [
      "<class 'dict'>\n"
     ]
    }
   ],
   "source": [
    "# Creating dictionary\n",
    "empty_dict={}\n",
    "print(type(empty_dict));"
   ]
  },
  {
   "cell_type": "code",
   "execution_count": 6,
   "metadata": {},
   "outputs": [
    {
     "name": "stdout",
     "output_type": "stream",
     "text": [
      "{}\n"
     ]
    }
   ],
   "source": [
    "empty_dict=dict()\n",
    "empty_dict;\n",
    "print(empty_dict);"
   ]
  },
  {
   "cell_type": "code",
   "execution_count": 7,
   "metadata": {},
   "outputs": [
    {
     "name": "stdout",
     "output_type": "stream",
     "text": [
      "{'name': 'Najeeb', 'age': 31, 'grade': 23}\n",
      "<class 'dict'>\n"
     ]
    }
   ],
   "source": [
    "student = {\"name\":\"Najeeb\",\"age\":31,\"grade\":23}\n",
    "print(student);\n",
    "print(type(student));"
   ]
  },
  {
   "cell_type": "code",
   "execution_count": 8,
   "metadata": {},
   "outputs": [
    {
     "name": "stdout",
     "output_type": "stream",
     "text": [
      "{'name': 'Mohd', 'age': 31}\n"
     ]
    }
   ],
   "source": [
    "# Single key is always used\n",
    "student = {\"name\":\"Najeeb\",\"age\":31,\"name\":\"Mohd\"}\n",
    "print(student);"
   ]
  },
  {
   "cell_type": "code",
   "execution_count": 9,
   "metadata": {},
   "outputs": [
    {
     "name": "stdout",
     "output_type": "stream",
     "text": [
      "{'name': 'Najeeb', 'age': 31, 'grade': 'A'}\n",
      "A\n",
      "Najeeb\n"
     ]
    }
   ],
   "source": [
    "# Accessing dictionary element\n",
    "student = {\"name\":\"Najeeb\",\"age\":31,\"grade\":\"A\"};\n",
    "print(student);\n",
    "print(student['grade']);\n",
    "print(student['name']);"
   ]
  },
  {
   "cell_type": "code",
   "execution_count": 11,
   "metadata": {},
   "outputs": [
    {
     "name": "stdout",
     "output_type": "stream",
     "text": [
      "A\n",
      "None\n",
      "Not Available\n"
     ]
    }
   ],
   "source": [
    "# Accessing using get() method\n",
    "print(student.get('grade'));\n",
    "print(student.get('last_name'));\n",
    "print(student.get('last_name','Not Available'));"
   ]
  },
  {
   "cell_type": "code",
   "execution_count": 12,
   "metadata": {},
   "outputs": [
    {
     "name": "stdout",
     "output_type": "stream",
     "text": [
      "{'name': 'Najeeb', 'age': 31, 'grade': 'A'}\n"
     ]
    }
   ],
   "source": [
    "# Modifying dictionary elements\n",
    "# Dictionary are mutable, so you can add, update or delete elements.\n",
    "print(student);"
   ]
  },
  {
   "cell_type": "code",
   "execution_count": 13,
   "metadata": {},
   "outputs": [
    {
     "name": "stdout",
     "output_type": "stream",
     "text": [
      "{'name': 'Najeeb', 'age': 32, 'grade': 'A'}\n",
      "{'name': 'Najeeb', 'age': 32, 'grade': 'A', 'address': 'India'}\n"
     ]
    }
   ],
   "source": [
    "student[\"age\"]=32; # updated value for the key\n",
    "print(student);\n",
    "student[\"address\"]=\"India\"; # added a new key and value\n",
    "print(student);"
   ]
  },
  {
   "cell_type": "code",
   "execution_count": 14,
   "metadata": {},
   "outputs": [
    {
     "name": "stdout",
     "output_type": "stream",
     "text": [
      "{'name': 'Najeeb', 'age': 32, 'address': 'India'}\n"
     ]
    }
   ],
   "source": [
    "del student['grade']; # delete key and value pair\n",
    "print(student);"
   ]
  },
  {
   "cell_type": "code",
   "execution_count": 15,
   "metadata": {},
   "outputs": [
    {
     "name": "stdout",
     "output_type": "stream",
     "text": [
      "dict_keys(['name', 'age', 'address'])\n",
      "dict_values(['Najeeb', 32, 'India'])\n",
      "dict_items([('name', 'Najeeb'), ('age', 32), ('address', 'India')])\n"
     ]
    }
   ],
   "source": [
    "# Dictionary methods\n",
    "keys = student.keys(); # get all the keys\n",
    "print(keys);\n",
    "values = student.values(); # get all the values\n",
    "print(values);\n",
    "\n",
    "items = student.items(); # get all the key value pair\n",
    "print(items);"
   ]
  },
  {
   "cell_type": "code",
   "execution_count": 16,
   "metadata": {},
   "outputs": [
    {
     "name": "stdout",
     "output_type": "stream",
     "text": [
      "{'name': 'Najeeb', 'age': 32, 'address': 'India'}\n",
      "{'name': 'Najeeb', 'age': 32, 'address': 'India'}\n"
     ]
    }
   ],
   "source": [
    "# Shallow copy\n",
    "student_copy=student\n",
    "print(student);\n",
    "print(student_copy);"
   ]
  },
  {
   "cell_type": "code",
   "execution_count": 17,
   "metadata": {},
   "outputs": [
    {
     "name": "stdout",
     "output_type": "stream",
     "text": [
      "{'name': 'Najeeb1', 'age': 32, 'address': 'India'}\n",
      "{'name': 'Najeeb1', 'age': 32, 'address': 'India'}\n"
     ]
    }
   ],
   "source": [
    "student[\"name\"]=\"Najeeb1\";\n",
    "print(student);\n",
    "print(student_copy);"
   ]
  },
  {
   "cell_type": "code",
   "execution_count": 20,
   "metadata": {},
   "outputs": [
    {
     "name": "stdout",
     "output_type": "stream",
     "text": [
      "{'name': 'Najeeb1', 'age': 32, 'address': 'India'}\n",
      "{'name': 'Najeeb1', 'age': 32, 'address': 'India'}\n"
     ]
    }
   ],
   "source": [
    "student_copy1=student.copy(); # shallow copy\n",
    "print(student);\n",
    "print(student_copy1);"
   ]
  },
  {
   "cell_type": "code",
   "execution_count": 21,
   "metadata": {},
   "outputs": [
    {
     "name": "stdout",
     "output_type": "stream",
     "text": [
      "{'name': 'Najeeb2', 'age': 32, 'address': 'India'}\n",
      "{'name': 'Najeeb1', 'age': 32, 'address': 'India'}\n"
     ]
    }
   ],
   "source": [
    "student[\"name\"]='Najeeb2';\n",
    "print(student);\n",
    "print(student_copy1);"
   ]
  },
  {
   "cell_type": "code",
   "execution_count": 22,
   "metadata": {},
   "outputs": [
    {
     "name": "stdout",
     "output_type": "stream",
     "text": [
      "name\n",
      "age\n",
      "address\n"
     ]
    }
   ],
   "source": [
    "# Iterating over Dictionaries\n",
    "# You can use loops to iterate  over dictionaries, keys, values, or items.\n",
    "\n",
    "# Iterating over keys\n",
    "for key in student.keys():\n",
    "    print(key);"
   ]
  },
  {
   "cell_type": "code",
   "execution_count": 23,
   "metadata": {},
   "outputs": [
    {
     "name": "stdout",
     "output_type": "stream",
     "text": [
      "Najeeb2\n",
      "32\n",
      "India\n"
     ]
    }
   ],
   "source": [
    "# Iterating over values\n",
    "for value in student.values():\n",
    "    print(value);"
   ]
  },
  {
   "cell_type": "code",
   "execution_count": 24,
   "metadata": {},
   "outputs": [
    {
     "name": "stdout",
     "output_type": "stream",
     "text": [
      "name:Najeeb2\n",
      "age:32\n",
      "address:India\n"
     ]
    }
   ],
   "source": [
    "# Iterate over key, value pairs\n",
    "for key,value in student.items():\n",
    "    print(f\"{key}:{value}\");"
   ]
  },
  {
   "cell_type": "code",
   "execution_count": 2,
   "metadata": {},
   "outputs": [
    {
     "name": "stdout",
     "output_type": "stream",
     "text": [
      "{'student1': {'name': 'Najeeb', 'age': 31}, 'student2': {'name': 'Mohd', 'age': 32}}\n"
     ]
    }
   ],
   "source": [
    "# Nested Dictionaries\n",
    "students = {\n",
    "    \"student1\":{\"name\":\"Najeeb\",\"age\":31},\n",
    "    \"student2\":{\"name\":\"Mohd\",\"age\":32}\n",
    "}\n",
    "print(students);"
   ]
  },
  {
   "cell_type": "code",
   "execution_count": 3,
   "metadata": {},
   "outputs": [
    {
     "name": "stdout",
     "output_type": "stream",
     "text": [
      "Mohd\n",
      "31\n"
     ]
    }
   ],
   "source": [
    "# Access nested dictionaries elements\n",
    "print(students[\"student2\"][\"name\"]);\n",
    "print(students[\"student1\"][\"age\"]);"
   ]
  },
  {
   "cell_type": "code",
   "execution_count": 5,
   "metadata": {},
   "outputs": [
    {
     "name": "stdout",
     "output_type": "stream",
     "text": [
      "dict_items([('student1', {'name': 'Najeeb', 'age': 31}), ('student2', {'name': 'Mohd', 'age': 32})])\n"
     ]
    }
   ],
   "source": [
    "students.items();\n",
    "print(students.items());"
   ]
  },
  {
   "cell_type": "code",
   "execution_count": 6,
   "metadata": {},
   "outputs": [
    {
     "name": "stdout",
     "output_type": "stream",
     "text": [
      "student1:{'name': 'Najeeb', 'age': 31}\n",
      "name:Najeeb\n",
      "age:31\n",
      "student2:{'name': 'Mohd', 'age': 32}\n",
      "name:Mohd\n",
      "age:32\n"
     ]
    }
   ],
   "source": [
    "# Iterating over nested dictionaries\n",
    "for student_id, student_info in students.items():\n",
    "    print(f\"{student_id}:{student_info}\")\n",
    "    for key,value in student_info.items():\n",
    "        print(f\"{key}:{value}\")"
   ]
  },
  {
   "cell_type": "code",
   "execution_count": 7,
   "metadata": {},
   "outputs": [
    {
     "name": "stdout",
     "output_type": "stream",
     "text": [
      "{0: 0, 1: 1, 2: 4, 3: 9, 4: 16}\n"
     ]
    }
   ],
   "source": [
    "# Dictionary comprehension\n",
    "squares={x:x**2 for x in range(5)}\n",
    "print(squares)"
   ]
  },
  {
   "cell_type": "code",
   "execution_count": 8,
   "metadata": {},
   "outputs": [
    {
     "name": "stdout",
     "output_type": "stream",
     "text": [
      "{0: 0, 2: 4, 4: 16, 6: 36, 8: 64}\n"
     ]
    }
   ],
   "source": [
    "# Condition dictionary comprehension\n",
    "evens = {x:x**2 for x in range(10) if x%2==0}\n",
    "print(evens)"
   ]
  },
  {
   "cell_type": "code",
   "execution_count": 9,
   "metadata": {},
   "outputs": [
    {
     "name": "stdout",
     "output_type": "stream",
     "text": [
      "{1: 1, 2: 2, 3: 3, 4: 4}\n"
     ]
    }
   ],
   "source": [
    "# Practical Example\n",
    "## Use a dictionary to count the frequency of elements in list\n",
    "\n",
    "numbers = [1,2,2,3,3,3,4,4,4,4];\n",
    "frequency ={}\n",
    "for number in numbers:\n",
    "    if number in frequency:\n",
    "        frequency[number]+=1\n",
    "    else:\n",
    "        frequency[number]=1\n",
    "print(frequency)"
   ]
  },
  {
   "cell_type": "code",
   "execution_count": 10,
   "metadata": {},
   "outputs": [
    {
     "name": "stdout",
     "output_type": "stream",
     "text": [
      "{'a': 1, 'b': 3, 'c': 4}\n"
     ]
    }
   ],
   "source": [
    "# Merge 2 dictionary into one\n",
    "dict1={\"a\":1, \"b\":2}\n",
    "dict2={\"b\":3, \"c\":4}\n",
    "merged_dict = {**dict1,**dict2}\n",
    "print(merged_dict);"
   ]
  }
 ],
 "metadata": {
  "kernelspec": {
   "display_name": "Python 3",
   "language": "python",
   "name": "python3"
  },
  "language_info": {
   "codemirror_mode": {
    "name": "ipython",
    "version": 3
   },
   "file_extension": ".py",
   "mimetype": "text/x-python",
   "name": "python",
   "nbconvert_exporter": "python",
   "pygments_lexer": "ipython3",
   "version": "3.10.7"
  }
 },
 "nbformat": 4,
 "nbformat_minor": 2
}
